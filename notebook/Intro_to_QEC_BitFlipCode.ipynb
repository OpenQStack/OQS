{
 "cells": [
  {
   "cell_type": "markdown",
   "id": "c3c80723",
   "metadata": {},
   "source": [
    "# 📘 Intro to Quantum Error Correction: Bit-Flip Code\n",
    "OpenQStack Teaching Notebook 0\n",
    "\n",
    "This notebook introduces the core idea of quantum error correction (QEC) through a hands-on simulation of the 3-qubit Bit-Flip Code using OpenQStack."
   ]
  },
  {
   "cell_type": "code",
   "execution_count": null,
   "id": "e910a889",
   "metadata": {},
   "outputs": [],
   "source": [
    "import numpy as np\n",
    "from openqstack.qec import BitFlipCode, BitFlip\n",
    "from openqstack.visualize import plot_bloch, show_state\n",
    "from qutip import basis, fidelity, tensor\n",
    "import matplotlib.pyplot as plt"
   ]
  },
  {
   "cell_type": "markdown",
   "id": "999ee2bc",
   "metadata": {},
   "source": [
    "## 🧠 What is Quantum Error Correction?\n",
    "Quantum error correction (QEC) is the technique by which we protect quantum information from decoherence. Unlike classical error correction, we cannot simply copy quantum states due to the no-cloning theorem. Instead, we use entanglement and redundancy to encode information across multiple qubits in such a way that we can detect and correct errors."
   ]
  },
  {
   "cell_type": "code",
   "execution_count": null,
   "id": "0ca00b0f",
   "metadata": {},
   "outputs": [],
   "source": [
    "print(\"Imagine we want to protect the state |ψ⟩ = α|0⟩ + β|1⟩ from errors...\")\n",
    "alpha = np.sqrt(0.8)\n",
    "beta = np.sqrt(0.2)\n",
    "psi = alpha * basis(2, 0) + beta * basis(2, 1)\n",
    "show_state(psi, title=\"Original state |ψ⟩ before encoding\")"
   ]
  },
  {
   "cell_type": "markdown",
   "id": "03ee48a4",
   "metadata": {},
   "source": [
    "## 🔁 Toy Model: Bit-Flip Noise\n",
    "The bit-flip channel flips a qubit with some probability \\( p \\). We model this as a quantum operation using Kraus operators. This toy model helps us isolate and understand how QEC protects against a specific kind of noise."
   ]
  },
  {
   "cell_type": "code",
   "execution_count": null,
   "id": "c7b5be7e",
   "metadata": {},
   "outputs": [],
   "source": [
    "bitflip = BitFlip(p=0.3)\n",
    "noisy_state = bitflip.apply(psi)\n",
    "show_state(noisy_state, title=\"Noisy state after bit-flip channel\")\n",
    "print(f\"Fidelity without error correction: {fidelity(psi, noisy_state):.4f}\")"
   ]
  },
  {
   "cell_type": "markdown",
   "id": "ea40d609",
   "metadata": {},
   "source": [
    "## 🧰 Bit-Flip Code: Encoding and Recovery\n",
    "To protect against bit-flip noise, we use the 3-qubit bit-flip code:\n",
    "\n",
    "\\[ |\\psi\\rangle = \\alpha|0\\rangle + \\beta|1\\rangle \\Rightarrow \\alpha|000\\rangle + \\beta|111\\rangle \\]\n",
    "If any one of the three qubits flips, we can use majority voting to recover the original logical state."
   ]
  },
  {
   "cell_type": "code",
   "execution_count": null,
   "id": "52daa06e",
   "metadata": {},
   "outputs": [],
   "source": [
    "code = BitFlipCode()\n",
    "encoded = code.encode(psi)\n",
    "noisy_encoded = bitflip.apply(encoded, n_qubits=3)\n",
    "recovered = code.recover(noisy_encoded)\n",
    "decoded = code.decode(recovered)\n",
    "show_state(decoded, title=\"Recovered state after BitFlipCode\")\n",
    "print(f\"Fidelity with error correction: {fidelity(psi, decoded):.4f}\")"
   ]
  },
  {
   "cell_type": "markdown",
   "id": "fcb2b9d1",
   "metadata": {},
   "source": [
    "## 📈 Fidelity vs Noise Strength\n",
    "Let's evaluate how well QEC performs across varying noise strengths."
   ]
  },
  {
   "cell_type": "code",
   "execution_count": null,
   "id": "5cd03f5e",
   "metadata": {},
   "outputs": [],
   "source": [
    "ps = np.linspace(0, 1, 50)\n",
    "fid_no_ec = []\n",
    "fid_ec = []\n",
    "for p in ps:\n",
    "    bf = BitFlip(p)\n",
    "    noisy = bf.apply(psi)\n",
    "    fid_no_ec.append(fidelity(psi, noisy))\n",
    "    encoded = code.encode(psi)\n",
    "    noisy_encoded = bf.apply(encoded, n_qubits=3)\n",
    "    recovered = code.recover(noisy_encoded)\n",
    "    decoded = code.decode(recovered)\n",
    "    fid_ec.append(fidelity(psi, decoded))\n",
    "plt.plot(ps, fid_no_ec, label=\"No QEC\")\n",
    "plt.plot(ps, fid_ec, label=\"With Bit-Flip Code\")\n",
    "plt.xlabel(\"Bit-flip probability p\")\n",
    "plt.ylabel(\"Fidelity\")\n",
    "plt.title(\"Fidelity vs Bit-Flip Noise Strength\")\n",
    "plt.legend()\n",
    "plt.grid(True)\n",
    "plt.show()"
   ]
  },
  {
   "cell_type": "markdown",
   "id": "55f45444",
   "metadata": {},
   "source": [
    "## 🧩 Exercises\n",
    "1. Change the initial state \\(|\\psi\\rangle\\) to different values (e.g., \\(|+\\rangle\\), \\(|−\\rangle\\), \\(|i\\rangle\\)) and observe how QEC performs.\n",
    "2. Replace the bit-flip noise with a depolarizing channel and rerun the simulation. What happens?\n",
    "3. Implement a simple 1-qubit phase-flip code. Does it protect against bit-flip noise?\n",
    "4. Try applying 2 bit-flips to the 3-qubit code. Can it recover? Why or why not?"
   ]
  },
  {
   "cell_type": "markdown",
   "id": "162f272d",
   "metadata": {},
   "source": [
    "## ✅ Summary\n",
    "We introduced quantum error correction by exploring how the 3-qubit Bit-Flip Code protects a quantum state. We saw how fidelity improves when QEC is applied across a range of noise levels. In future notebooks, we'll explore more complex codes, visualizations, and realistic noise models."
   ]
  }
 ],
 "metadata": {},
 "nbformat": 4,
 "nbformat_minor": 5
}