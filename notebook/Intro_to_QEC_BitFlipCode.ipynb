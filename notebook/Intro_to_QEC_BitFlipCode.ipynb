# Intro to Quantum Error Correction: Bit-Flip Code
# OpenQStack Teaching Notebook 0

# This notebook introduces the core idea of quantum error correction (QEC)
# through a hands-on simulation of the 3-qubit Bit-Flip Code using OpenQStack.

import numpy as np
from openqstack.qec import BitFlipCode, BitFlip
from openqstack.visualize import plot_bloch, show_state
from qutip import basis, fidelity, tensor
import matplotlib.pyplot as plt

# --- SECTION 1 ---
# What is Quantum Error Correction?
# --------------------------------------------------
# Quantum information is fragile. Interactions with the environment (decoherence)
# can randomly flip qubits, leading to errors in computation or communication.
# The challenge is: How can we protect a fragile quantum state without violating the no-cloning theorem?

# Markdown cell:
# """
# ## What is Quantum Error Correction?
# Quantum error correction (QEC) is the technique by which we protect quantum information from decoherence.
# Unlike classical error correction, we cannot simply copy quantum states due to the no-cloning theorem.
# Instead, we use entanglement and redundancy to encode information across multiple qubits in such a way
# that we can detect and correct errors.
# """

print("Imagine we want to protect the state |ψ⟩ = α|0⟩ + β|1⟩ from errors...")

alpha = np.sqrt(0.8)
beta = np.sqrt(0.2)
psi = alpha * basis(2, 0) + beta * basis(2, 1)
show_state(psi, title="Original state |ψ⟩ before encoding")

# --- SECTION 2 ---
# Toy Model: Bit-Flip Noise
# --------------------------------------------------
# A bit-flip channel flips |0⟩ ↔ |1⟩ with probability p.
# This is analogous to a classical binary symmetric channel.

# Markdown cell:
# """
# ## Toy Model: Bit-Flip Noise
# The bit-flip channel flips a qubit with some probability \( p \).
# We model this as a quantum operation using Kraus operators. This toy model helps us isolate and
# understand how QEC protects against a specific kind of noise.
# """

bitflip = BitFlip(p=0.3)
noisy_state = bitflip.apply(psi)
show_state(noisy_state, title="Noisy state after bit-flip channel")
print(f"Fidelity without error correction: {fidelity(psi, noisy_state):.4f}")

# --- SECTION 3 ---
# Bit-Flip Code: Encoding and Recovery
# --------------------------------------------------
# The 3-qubit Bit-Flip Code encodes a single qubit as:
#   |0⟩ → |000⟩, |1⟩ → |111⟩
# Majority vote allows detection and correction of a single flip.

# Markdown cell:
# """
# ## Bit-Flip Code: Encoding and Recovery
# To protect against bit-flip noise, we use the 3-qubit bit-flip code.
# This maps a logical qubit into three physical qubits using redundancy:
# \[
# |\psi\rangle = \alpha|0\rangle + \beta|1\rangle \Rightarrow \alpha|000\rangle + \beta|111\rangle
# \]
# If any one of the three qubits flips, we can use majority voting to recover the original logical state.
# """

code = BitFlipCode()
encoded = code.encode(psi)
noisy_encoded = bitflip.apply(encoded, n_qubits=3)
recovered = code.recover(noisy_encoded)
decoded = code.decode(recovered)
show_state(decoded, title="Recovered state after BitFlipCode")
print(f"Fidelity with error correction: {fidelity(psi, decoded):.4f}")

# --- SECTION 4 ---
# Fidelity vs Noise Strength
# --------------------------------------------------
# Let's evaluate how well QEC performs across varying noise strengths.

ps = np.linspace(0, 1, 50)
fid_no_ec = []
fid_ec = []

for p in ps:
    bf = BitFlip(p)
    noisy = bf.apply(psi)
    fid_no_ec.append(fidelity(psi, noisy))

    encoded = code.encode(psi)
    noisy_encoded = bf.apply(encoded, n_qubits=3)
    recovered = code.recover(noisy_encoded)
    decoded = code.decode(recovered)
    fid_ec.append(fidelity(psi, decoded))

plt.plot(ps, fid_no_ec, label="No QEC")
plt.plot(ps, fid_ec, label="With Bit-Flip Code")
plt.xlabel("Bit-flip probability p")
plt.ylabel("Fidelity")
plt.title("Fidelity vs Bit-Flip Noise Strength")
plt.legend()
plt.grid(True)
plt.show()

# --- SECTION 5 ---
# Exercises
# --------------------------------------------------
# Markdown cell:
# """
# ## Exercises
# 1. Change the initial state |\psi⟩ to different values (e.g., |+⟩, |−⟩, |i⟩) and observe how QEC performs.
# 2. Replace the bit-flip noise with a depolarizing channel and rerun the simulation. What happens?
# 3. Implement a simple 1-qubit phase-flip code. Does it protect against bit-flip noise?
# 4. Try applying 2 bit-flips to the 3-qubit code. Can it recover? Why or why not?
# """

# Summary (Markdown cell):
# """
# ## Summary
# We introduced quantum error correction by exploring how the 3-qubit Bit-Flip Code protects a quantum state.
# We saw how fidelity improves when QEC is applied across a range of noise levels. In future notebooks,
# we'll explore more complex codes, visualizations, and realistic noise models.
# """
